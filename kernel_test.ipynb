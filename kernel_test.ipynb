{
  "cells": [
    {
      "cell_type": "markdown",
      "source": [
        "### Show the current kernel python version"
      ],
      "metadata": {
        "nteract": {
          "transient": {
            "deleting": false
          }
        }
      }
    },
    {
      "cell_type": "code",
      "source": [
        "from platform import python_version\n",
        "\n",
        "python_version()"
      ],
      "outputs": [
        {
          "output_type": "execute_result",
          "execution_count": 1,
          "data": {
            "text/plain": "'3.10.14'"
          },
          "metadata": {}
        }
      ],
      "execution_count": 1,
      "metadata": {
        "jupyter": {
          "source_hidden": false,
          "outputs_hidden": false
        },
        "nteract": {
          "transient": {
            "deleting": false
          }
        },
        "gather": {
          "logged": 1725977715318
        }
      }
    },
    {
      "cell_type": "markdown",
      "source": [
        "#### Install package into the user partition\n",
        "\n",
        "If you haven't customized your python package in the Azure ML Studio environments, and not created the compute instance from your customized environment for the hardware vm.\n",
        "\n",
        "You can install the package with the following cell code."
      ],
      "metadata": {
        "nteract": {
          "transient": {
            "deleting": false
          }
        }
      }
    },
    {
      "cell_type": "code",
      "source": [
        "import sys\n",
        "!{sys.executable} -m pip list"
      ],
      "outputs": [
        {
          "output_type": "stream",
          "name": "stdout",
          "text": "Package                            Version\r\n---------------------------------- ---------------\r\naccelerate                         0.34.2\r\nadal                               1.2.7\r\naiohappyeyeballs                   2.4.0\r\naiohttp                            3.10.5\r\naiosignal                          1.3.1\r\nalembic                            1.13.1\r\naniso8601                          9.0.1\r\nannotated-types                    0.7.0\r\nanyio                              4.4.0\r\napplyllm                           0.0.7\r\nargcomplete                        3.3.0\r\nasttokens                          2.4.1\r\nasync-timeout                      4.0.3\r\nattrs                              23.2.0\r\nazure-ai-ml                        1.16.1\r\nazure-common                       1.1.28\r\nazure-core                         1.30.2\r\nazure-graphrbac                    0.61.1\r\nazure-identity                     1.16.0\r\nazure-mgmt-authorization           4.0.0\r\nazure-mgmt-containerregistry       10.3.0\r\nazure-mgmt-core                    1.4.0\r\nazure-mgmt-keyvault                10.3.0\r\nazure-mgmt-network                 25.4.0\r\nazure-mgmt-resource                23.1.1\r\nazure-mgmt-storage                 21.1.0\r\nazure-storage-blob                 12.20.0\r\nazure-storage-file-datalake        12.15.0\r\nazure-storage-file-share           12.16.0\r\nazureml-core                       1.56.0\r\nazureml-dataprep                   5.1.6\r\nazureml-dataprep-native            41.0.0\r\nazureml-dataprep-rslex             2.22.2\r\nazureml-fsspec                     1.3.1\r\nazureml-mlflow                     1.56.0\r\nbackoff                            2.2.1\r\nbackports.tempfile                 1.0\r\nbackports.weakref                  1.0.post1\r\nbcrypt                             4.1.3\r\nbeautifulsoup4                     4.12.3\r\nbitsandbytes                       0.43.3\r\nblinker                            1.8.2\r\nboto3                              1.35.15\r\nbotocore                           1.35.15\r\ncachetools                         5.3.3\r\ncertifi                            2024.6.2\r\ncffi                               1.16.0\r\nchardet                            5.2.0\r\ncharset-normalizer                 3.3.2\r\nclick                              8.1.7\r\ncloudpickle                        2.2.1\r\ncolorama                           0.4.6\r\ncomm                               0.2.2\r\ncontextlib2                        21.6.0\r\ncontourpy                          1.2.1\r\ncryptography                       42.0.8\r\ncycler                             0.12.1\r\nCython                             3.0.10\r\ndataclasses-json                   0.6.7\r\ndebugpy                            1.6.7\r\ndecorator                          5.1.1\r\ndeepdiff                           8.0.1\r\nDeprecated                         1.2.14\r\ndistlib                            0.3.8\r\ndocarray                           0.40.0\r\ndocker                             7.1.0\r\nemoji                              2.12.1\r\nentrypoints                        0.4\r\nexceptiongroup                     1.2.0\r\nexecuting                          2.0.1\r\nfilelock                           3.14.0\r\nfiletype                           1.2.0\r\nFlask                              3.0.3\r\nfonttools                          4.53.0\r\nfrozenlist                         1.4.1\r\nfsspec                             2023.10.0\r\ngitdb                              4.0.11\r\nGitPython                          3.1.43\r\ngoogle-api-core                    2.19.0\r\ngoogle-auth                        2.30.0\r\ngoogleapis-common-protos           1.63.1\r\ngraphene                           3.3\r\ngraphql-core                       3.2.3\r\ngraphql-relay                      3.2.0\r\ngreenlet                           3.0.3\r\ngrpcio                             1.64.1\r\ngunicorn                           22.0.0\r\nh11                                0.14.0\r\nhttpcore                           1.0.5\r\nhttpx                              0.27.2\r\nhuggingface-hub                    0.24.6\r\nhumanfriendly                      10.0\r\nidna                               3.7\r\nimageio                            2.34.1\r\nimportlib_metadata                 7.1.0\r\nipykernel                          6.29.4\r\nipython                            8.25.0\r\nisodate                            0.6.1\r\nitsdangerous                       2.2.0\r\njedi                               0.19.1\r\njeepney                            0.8.0\r\nJinja2                             3.1.4\r\njmespath                           1.0.1\r\njoblib                             1.4.2\r\njsonpatch                          1.33\r\njsonpath-python                    1.0.6\r\njsonpickle                         3.2.1\r\njsonpointer                        3.0.0\r\njsonschema                         4.22.0\r\njsonschema-specifications          2023.12.1\r\njupyter_client                     8.6.2\r\njupyter_core                       5.7.2\r\nkiwisolver                         1.4.5\r\nknack                              0.11.0\r\nlangchain                          0.2.16\r\nlangchain-core                     0.2.38\r\nlangchain-text-splitters           0.2.4\r\nlangdetect                         1.0.9\r\nlangsmith                          0.1.117\r\nlazy_loader                        0.4\r\nlxml                               5.3.0\r\nMako                               1.3.5\r\nMarkdown                           3.6\r\nmarkdown-it-py                     3.0.0\r\nMarkupSafe                         2.1.5\r\nmarshmallow                        3.21.3\r\nmatplotlib                         3.9.0\r\nmatplotlib-inline                  0.1.7\r\nmdurl                              0.1.2\r\nmldesigner                         0.1.0b18\r\nmlflow                             2.13.2\r\nmlflow-skinny                      2.13.2\r\nmltable                            1.6.1\r\nmpmath                             1.3.0\r\nmsal                               1.28.0\r\nmsal-extensions                    1.1.0\r\nmsgpack                            1.0.8\r\nmsrest                             0.7.1\r\nmsrestazure                        0.6.4\r\nmultidict                          6.1.0\r\nmypy-extensions                    1.0.0\r\nndg-httpsclient                    0.5.1\r\nnest_asyncio                       1.6.0\r\nnetworkx                           3.3\r\nnltk                               3.9.1\r\nnumpy                              1.23.5\r\nnvidia-cublas-cu12                 12.1.3.1\r\nnvidia-cuda-cupti-cu12             12.1.105\r\nnvidia-cuda-nvrtc-cu12             12.1.105\r\nnvidia-cuda-runtime-cu12           12.1.105\r\nnvidia-cudnn-cu12                  9.1.0.70\r\nnvidia-cufft-cu12                  11.0.2.54\r\nnvidia-curand-cu12                 10.3.2.106\r\nnvidia-cusolver-cu12               11.4.5.107\r\nnvidia-cusparse-cu12               12.1.0.106\r\nnvidia-nccl-cu12                   2.20.5\r\nnvidia-nvjitlink-cu12              12.6.68\r\nnvidia-nvtx-cu12                   12.1.105\r\noauthlib                           3.2.2\r\nolefile                            0.47\r\nopencensus                         0.11.4\r\nopencensus-context                 0.1.3\r\nopencensus-ext-azure               1.1.13\r\nopencensus-ext-logging             0.1.1\r\nopentelemetry-api                  1.25.0\r\nopentelemetry-sdk                  1.25.0\r\nopentelemetry-semantic-conventions 0.46b0\r\norderly-set                        5.2.2\r\norjson                             3.10.7\r\npackaging                          24.0\r\npandas                             2.2.2\r\nparamiko                           3.4.0\r\nparso                              0.8.4\r\npathspec                           0.12.1\r\npexpect                            4.9.0\r\npickleshare                        0.7.5\r\npillow                             10.3.0\r\npip                                24.0\r\npkginfo                            1.11.1\r\nplatformdirs                       4.2.2\r\nportalocker                        2.8.2\r\nprompt_toolkit                     3.0.46\r\nproto-plus                         1.23.0\r\nprotobuf                           4.25.3\r\npsutil                             5.9.8\r\npsycopg                            3.2.1\r\npsycopg-binary                     3.2.1\r\nptyprocess                         0.7.0\r\npure-eval                          0.2.2\r\npyarrow                            15.0.2\r\npyasn1                             0.6.0\r\npyasn1_modules                     0.4.0\r\npycparser                          2.22\r\npydantic                           2.9.1\r\npydantic_core                      2.23.3\r\npydash                             8.0.1\r\nPygments                           2.18.0\r\nPyJWT                              2.8.0\r\nPyNaCl                             1.5.0\r\npyOpenSSL                          24.1.0\r\npyparsing                          3.1.2\r\npypdf                              4.3.1\r\nPySocks                            1.7.1\r\npython-dateutil                    2.9.0\r\npython-iso639                      2024.4.27\r\npython-magic                       0.4.27\r\npython-oxmsg                       0.0.1\r\npytz                               2024.1\r\nPyYAML                             6.0.1\r\npyzmq                              25.1.2\r\nquerystring-parser                 1.2.4\r\nrapidfuzz                          3.9.7\r\nray                                2.31.0\r\nreferencing                        0.35.1\r\nregex                              2024.7.24\r\nrequests                           2.32.3\r\nrequests-oauthlib                  2.0.0\r\nrequests-toolbelt                  1.0.0\r\nrich                               13.8.1\r\nrpds-py                            0.18.1\r\nrsa                                4.9\r\ns3transfer                         0.10.2\r\nsafetensors                        0.4.5\r\nscikit-image                       0.23.2\r\nscikit-learn                       1.5.0\r\nscipy                              1.13.1\r\nSecretStorage                      3.3.3\r\nsentence-transformers              3.0.1\r\nsetuptools                         69.5.1\r\nsix                                1.16.0\r\nsmmap                              5.0.1\r\nsniffio                            1.3.1\r\nsoupsieve                          2.6\r\nSQLAlchemy                         2.0.30\r\nsqlparse                           0.5.0\r\nstack-data                         0.6.2\r\nstrictyaml                         1.7.3\r\nsympy                              1.13.2\r\ntabulate                           0.9.0\r\ntenacity                           8.5.0\r\nthreadpoolctl                      3.5.0\r\ntifffile                           2024.5.22\r\ntokenizers                         0.19.1\r\ntorch                              2.4.1\r\ntornado                            6.4.1\r\ntqdm                               4.66.4\r\ntraitlets                          5.14.3\r\ntransformers                       4.44.2\r\ntriton                             3.0.0\r\ntypes-requests                     2.32.0.20240907\r\ntyping_extensions                  4.12.2\r\ntyping-inspect                     0.9.0\r\ntzdata                             2024.1\r\nunstructured                       0.15.10\r\nunstructured-client                0.25.7\r\nurllib3                            2.2.1\r\nvirtualenv                         20.26.2\r\nwcwidth                            0.2.13\r\nWerkzeug                           3.0.3\r\nwheel                              0.43.0\r\nwrapt                              1.16.0\r\nyarl                               1.11.1\r\nzipp                               3.19.2\r\n"
        }
      ],
      "execution_count": 2,
      "metadata": {
        "jupyter": {
          "source_hidden": false,
          "outputs_hidden": false
        },
        "nteract": {
          "transient": {
            "deleting": false
          }
        },
        "gather": {
          "logged": 1725977717940
        }
      }
    },
    {
      "cell_type": "code",
      "source": [
        "!{sys.executable} -m pip install python-dotenv==1.0.1 --user --upgrade"
      ],
      "outputs": [
        {
          "output_type": "stream",
          "name": "stdout",
          "text": "Collecting python-dotenv==1.0.1\n  Downloading python_dotenv-1.0.1-py3-none-any.whl.metadata (23 kB)\nDownloading python_dotenv-1.0.1-py3-none-any.whl (19 kB)\nInstalling collected packages: python-dotenv\n\u001b[33m  WARNING: The script dotenv is installed in '/home/azureuser/.local/bin' which is not on PATH.\n  Consider adding this directory to PATH or, if you prefer to suppress this warning, use --no-warn-script-location.\u001b[0m\u001b[33m\n\u001b[0mSuccessfully installed python-dotenv-1.0.1\n"
        }
      ],
      "execution_count": 3,
      "metadata": {
        "jupyter": {
          "source_hidden": false,
          "outputs_hidden": false
        },
        "nteract": {
          "transient": {
            "deleting": false
          }
        }
      }
    },
    {
      "cell_type": "code",
      "source": [],
      "outputs": [],
      "execution_count": null,
      "metadata": {
        "jupyter": {
          "source_hidden": false,
          "outputs_hidden": false
        },
        "nteract": {
          "transient": {
            "deleting": false
          }
        }
      }
    }
  ],
  "metadata": {
    "kernelspec": {
      "name": "python310-sdkv2",
      "language": "python",
      "display_name": "Python 3.10 - SDK v2"
    },
    "language_info": {
      "name": "python",
      "version": "3.10.14",
      "mimetype": "text/x-python",
      "codemirror_mode": {
        "name": "ipython",
        "version": 3
      },
      "pygments_lexer": "ipython3",
      "nbconvert_exporter": "python",
      "file_extension": ".py"
    },
    "microsoft": {
      "ms_spell_check": {
        "ms_spell_check_language": "en"
      }
    },
    "kernel_info": {
      "name": "python310-sdkv2"
    },
    "nteract": {
      "version": "nteract-front-end@1.0.0"
    }
  },
  "nbformat": 4,
  "nbformat_minor": 2
}